{
 "cells": [
  {
   "cell_type": "code",
   "execution_count": 1,
   "metadata": {
    "ExecuteTime": {
     "end_time": "2019-07-30T14:03:29.724314Z",
     "start_time": "2019-07-30T14:03:29.030208Z"
    },
    "pycharm": {
     "is_executing": false
    }
   },
   "outputs": [
    {
     "data": {
      "text/plain": "   query  q0        docid  rel\n0    303   0  FBIS3-16217    0\n1    303   0  FBIS3-19093    0\n2    303   0  FBIS3-21007    0\n3    303   0  FBIS3-21026    0\n4    303   0  FBIS3-23561    0",
      "text/html": "<div>\n<style scoped>\n    .dataframe tbody tr th:only-of-type {\n        vertical-align: middle;\n    }\n\n    .dataframe tbody tr th {\n        vertical-align: top;\n    }\n\n    .dataframe thead th {\n        text-align: right;\n    }\n</style>\n<table border=\"1\" class=\"dataframe\">\n  <thead>\n    <tr style=\"text-align: right;\">\n      <th></th>\n      <th>query</th>\n      <th>q0</th>\n      <th>docid</th>\n      <th>rel</th>\n    </tr>\n  </thead>\n  <tbody>\n    <tr>\n      <th>0</th>\n      <td>303</td>\n      <td>0</td>\n      <td>FBIS3-16217</td>\n      <td>0</td>\n    </tr>\n    <tr>\n      <th>1</th>\n      <td>303</td>\n      <td>0</td>\n      <td>FBIS3-19093</td>\n      <td>0</td>\n    </tr>\n    <tr>\n      <th>2</th>\n      <td>303</td>\n      <td>0</td>\n      <td>FBIS3-21007</td>\n      <td>0</td>\n    </tr>\n    <tr>\n      <th>3</th>\n      <td>303</td>\n      <td>0</td>\n      <td>FBIS3-21026</td>\n      <td>0</td>\n    </tr>\n    <tr>\n      <th>4</th>\n      <td>303</td>\n      <td>0</td>\n      <td>FBIS3-23561</td>\n      <td>0</td>\n    </tr>\n  </tbody>\n</table>\n</div>"
     },
     "metadata": {},
     "output_type": "execute_result",
     "execution_count": 1
    }
   ],
   "source": [
    "from trectools import TrecQrel, procedures\n",
    "\n",
    "# We load a qrel object from a file:\n",
    "qrels_file = \"./robust03/qrel/robust03_qrels.txt\"\n",
    "qrels = TrecQrel(qrels_file)\n",
    "\n",
    "# Internally TrecTools save the objects as Pandas dataframes\n",
    "qrels.qrels_data.head()"
   ]
  },
  {
   "cell_type": "code",
   "execution_count": 2,
   "metadata": {
    "ExecuteTime": {
     "end_time": "2019-07-30T14:03:31.672633Z",
     "start_time": "2019-07-30T14:03:29.865509Z"
    },
    "pycharm": {
     "is_executing": false
    }
   },
   "outputs": [
    {
     "name": "stdout",
     "text": [
      "Found 17 runs in path ./robust03/runs/\n"
     ],
     "output_type": "stream"
    },
    {
     "data": {
      "text/plain": "Data from file /Users/jiajun/Documents/GitHub/trectools/examples/robust03/runs/input.Sel50.gz"
     },
     "metadata": {},
     "output_type": "execute_result",
     "execution_count": 2
    }
   ],
   "source": [
    "# We can directly load a set of runs from a directory\n",
    "path_to_runs = \"./robust03/runs/\"\n",
    "runs = procedures.list_of_runs_from_path(path_to_runs, \"*.gz\")\n",
    "\n",
    "runs[0]"
   ]
  },
  {
   "cell_type": "code",
   "execution_count": 3,
   "metadata": {
    "ExecuteTime": {
     "end_time": "2019-07-30T14:04:51.619711Z",
     "start_time": "2019-07-30T14:03:31.683622Z"
    },
    "pycharm": {
     "is_executing": false
    }
   },
   "outputs": [
    {
     "data": {
      "text/plain": "<Figure size 864x432 with 1 Axes>",
      "image/png": "[encoded data removed]"
     },
     "metadata": {
      "needs_background": "light"
     },
     "output_type": "display_data"
    }
   ],
   "source": [
    "# And quickly generate a P@10 graph with all the runs in a directory:\n",
    "\n",
    "# evaluates all the runs in that directory\n",
    "results = procedures.evaluate_runs(runs, qrels, per_query=True)\n",
    "\n",
    "# gets the P@10 value for each run\n",
    "p10 = procedures.extract_metric_from_results(results, \"P_10\")\n",
    "\n",
    "# Plots the results\n",
    "fig = procedures.plot_system_rank(p10, display_metric=\"P@10\", outfile=\"plot.pdf\")\n"
   ]
  },
  {
   "cell_type": "code",
   "execution_count": 4,
   "metadata": {
    "ExecuteTime": {
     "end_time": "2019-07-30T14:04:58.912139Z",
     "start_time": "2019-07-30T14:04:58.781749Z"
    }
   },
   "outputs": [],
   "source": [
    "fig.savefig(\"plot.pdf\", bbox_inches='tight', dpi=600)"
   ]
  }
 ],
 "metadata": {
  "kernelspec": {
   "display_name": "Python 3",
   "language": "python",
   "name": "python3"
  },
  "language_info": {
   "codemirror_mode": {
    "name": "ipython",
    "version": 3
   },
   "file_extension": ".py",
   "mimetype": "text/x-python",
   "name": "python",
   "nbconvert_exporter": "python",
   "pygments_lexer": "ipython3",
   "version": "3.6.10"
  },
  "latex_envs": {
   "LaTeX_envs_menu_present": true,
   "autoclose": false,
   "autocomplete": true,
   "bibliofile": "biblio.bib",
   "cite_by": "apalike",
   "current_citInitial": 1,
   "eqLabelWithNumbers": true,
   "eqNumInitial": 1,
   "hotkeys": {
    "equation": "Ctrl-E",
    "itemize": "Ctrl-I"
   },
   "labels_anchors": false,
   "latex_user_defs": false,
   "report_style_numbering": false,
   "user_envs_cfg": false
  },
  "varInspector": {
   "cols": {
    "lenName": 16,
    "lenType": 16,
    "lenVar": 40
   },
   "kernels_config": {
    "python": {
     "delete_cmd_postfix": "",
     "delete_cmd_prefix": "del ",
     "library": "var_list.py",
     "varRefreshCmd": "print(var_dic_list())"
    },
    "r": {
     "delete_cmd_postfix": ") ",
     "delete_cmd_prefix": "rm(",
     "library": "var_list.r",
     "varRefreshCmd": "cat(var_dic_list()) "
    }
   },
   "types_to_exclude": [
    "module",
    "function",
    "builtin_function_or_method",
    "instance",
    "_Feature"
   ],
   "window_display": false
  }
 },
 "nbformat": 4,
 "nbformat_minor": 2
}